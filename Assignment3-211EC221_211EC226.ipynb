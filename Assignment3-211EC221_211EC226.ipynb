{
 "cells": [
  {
   "cell_type": "code",
   "execution_count": 4,
   "metadata": {},
   "outputs": [],
   "source": [
    "import numpy as np\n",
    "import matplotlib.pyplot as plt\n",
    "import cmath as cm"
   ]
  },
  {
   "cell_type": "code",
   "execution_count": 67,
   "metadata": {},
   "outputs": [],
   "source": [
    "def dft_freq_phase(xn,N):\n",
    "    res = []\n",
    "    for k in range(0, N):\n",
    "        sum = 0\n",
    "        for i in range(0, N):\n",
    "            sum += xn[i] * np.exp(-1j * 2 * np.pi * i * k / N)\n",
    "        res.append(sum)\n",
    "\n",
    "    freq = np.fft.fftfreq(N)\n",
    "        \n",
    "    xn_phase = []\n",
    "    for i in range(0, N):\n",
    "        xn_phase.append(cm.phase(res[i]))\n",
    "    \n",
    "    return {\n",
    "        \"dft\": res,\n",
    "        \"freq\": freq,\n",
    "        \"phase\": xn_phase\n",
    "    }"
   ]
  },
  {
   "cell_type": "markdown",
   "metadata": {},
   "source": [
    "## Question 1\n",
    "\n",
    "Compute the 8-point DFT of the following sequences. Plot the magnitude \n",
    "\tand phase spectrum. Observe the symmetry properties\n",
    "\t\n",
    "\ta.  $x[n] = \\{1,1,0,0,0,0,0,1\\}$\n",
    "\tb. $x[n] = \\{0,1,1,0,0,0,-1,-1\\}$"
   ]
  },
  {
   "cell_type": "code",
   "execution_count": 68,
   "metadata": {},
   "outputs": [
    {
     "name": "stderr",
     "output_type": "stream",
     "text": [
      "/home/dsdlab/anaconda3/lib/python3.7/site-packages/ipykernel_launcher.py:7: UserWarning: In Matplotlib 3.3 individual lines on a stem plot will be added as a LineCollection instead of individual lines. This significantly improves the performance of a stem plot. To remove this warning and switch to the new behaviour, set the \"use_line_collection\" keyword argument to True.\n",
      "  import sys\n",
      "/home/dsdlab/anaconda3/lib/python3.7/site-packages/ipykernel_launcher.py:9: UserWarning: In Matplotlib 3.3 individual lines on a stem plot will be added as a LineCollection instead of individual lines. This significantly improves the performance of a stem plot. To remove this warning and switch to the new behaviour, set the \"use_line_collection\" keyword argument to True.\n",
      "  if __name__ == '__main__':\n"
     ]
    },
    {
     "data": {
      "text/plain": [
       "<StemContainer object of 3 artists>"
      ]
     },
     "execution_count": 68,
     "metadata": {},
     "output_type": "execute_result"
    },
    {
     "data": {
      "image/png": "[encoded data removed]",
      "text/plain": [
       "<Figure size 432x288 with 1 Axes>"
      ]
     },
     "metadata": {
      "needs_background": "light"
     },
     "output_type": "display_data"
    }
   ],
   "source": [
    "x1 = [1,1,0,0,0,0,0,1]\n",
    "x2 = [0,1,1,0,0,0,-1,-1]\n",
    "N = 8\n",
    "\n",
    "x1_dft = dft_freq_phase(x1,N)\n",
    "\n",
    "plt.stem(x1_dft[\"freq\"], np.abs(x1_dft[\"dft\"]), linefmt = 'R', markerfmt = 'X')\n",
    "\n",
    "plt.stem(freq, x1_dft[\"phase\"], linefmt = 'B')"
   ]
  },
  {
   "cell_type": "markdown",
   "metadata": {},
   "source": [
    "## Question 2\n",
    "\n",
    "Generate the finite duration sequence $x[n]= 0.5 (1-\\cos(\\pi n/20))$, $0\\leq n <20$.  \n",
    "\n",
    "      a.  Append the sequence with sufficient number of zeros to compute the DFT of the sequence with length              N=32 and 256. Plot the DFT and comment on the effects of zero padding.\n",
    "        \n",
    "\tb.  Insert 16 zeros in the middle of the sequence and perform a DFT with N=32.\n",
    "\tNote the difference in the spectrum\n",
    "        \n",
    "\tc.  Insert 16 zeros in the beginning of the sequence and repeat.\n"
   ]
  },
  {
   "cell_type": "code",
   "execution_count": 71,
   "metadata": {},
   "outputs": [
    {
     "name": "stderr",
     "output_type": "stream",
     "text": [
      "/home/dsdlab/anaconda3/lib/python3.7/site-packages/ipykernel_launcher.py:14: UserWarning: In Matplotlib 3.3 individual lines on a stem plot will be added as a LineCollection instead of individual lines. This significantly improves the performance of a stem plot. To remove this warning and switch to the new behaviour, set the \"use_line_collection\" keyword argument to True.\n",
      "  \n",
      "/home/dsdlab/anaconda3/lib/python3.7/site-packages/ipykernel_launcher.py:15: UserWarning: In Matplotlib 3.3 individual lines on a stem plot will be added as a LineCollection instead of individual lines. This significantly improves the performance of a stem plot. To remove this warning and switch to the new behaviour, set the \"use_line_collection\" keyword argument to True.\n",
      "  from ipykernel import kernelapp as app\n"
     ]
    },
    {
     "data": {
      "text/plain": [
       "<StemContainer object of 3 artists>"
      ]
     },
     "execution_count": 71,
     "metadata": {},
     "output_type": "execute_result"
    },
    {
     "data": {
      "image/png": "[encoded data removed]",
      "text/plain": [
       "<Figure size 432x288 with 1 Axes>"
      ]
     },
     "metadata": {
      "needs_background": "light"
     },
     "output_type": "display_data"
    }
   ],
   "source": [
    "n = 20\n",
    "\n",
    "N1 = 32\n",
    "N2 = 256\n",
    "\n",
    "def xa(N):\n",
    "    res = []\n",
    "    for i in range(0, n):\n",
    "        res.append(0.5 * (1 - np.cos(np.pi * i / 20)))\n",
    "    for i in range(n, N):\n",
    "        res.append(0)\n",
    "    return res\n",
    "\n",
    "plt.stem(dft_freq_phase(xa(N1), N1)[\"freq\"], np.abs(dft_freq_phase(xa(N1), N1)[\"dft\"]), linefmt = 'B')\n",
    "plt.stem(dft_freq_phase(xa(N2), N2)[\"freq\"], np.abs(dft_freq_phase(xa(N2), N2)[\"dft\"]), linefmt = 'R')"
   ]
  },
  {
   "cell_type": "code",
   "execution_count": 74,
   "metadata": {},
   "outputs": [
    {
     "name": "stderr",
     "output_type": "stream",
     "text": [
      "/home/dsdlab/anaconda3/lib/python3.7/site-packages/ipykernel_launcher.py:11: UserWarning: In Matplotlib 3.3 individual lines on a stem plot will be added as a LineCollection instead of individual lines. This significantly improves the performance of a stem plot. To remove this warning and switch to the new behaviour, set the \"use_line_collection\" keyword argument to True.\n",
      "  # This is added back by InteractiveShellApp.init_path()\n"
     ]
    },
    {
     "data": {
      "text/plain": [
       "<StemContainer object of 3 artists>"
      ]
     },
     "execution_count": 74,
     "metadata": {},
     "output_type": "execute_result"
    },
    {
     "data": {
      "image/png": "[encoded data removed]",
      "text/plain": [
       "<Figure size 432x288 with 1 Axes>"
      ]
     },
     "metadata": {
      "needs_background": "light"
     },
     "output_type": "display_data"
    }
   ],
   "source": [
    "def xb(N):\n",
    "    res = []\n",
    "    for i in range(0, int(n/2)):\n",
    "        res.append(0.5 * (1 - np.cos(np.pi * i / 20)))\n",
    "    for i in range(int(n/2), int(n/2) + 16):\n",
    "        res.append(0)\n",
    "    for i in range(int(n/2) + 16, N):\n",
    "        res.append(0.5 * (1 - np.cos(np.pi * i / 20)))\n",
    "    return res\n",
    "\n",
    "plt.stem(dft_freq_phase(xb(N1), N1)[\"freq\"], np.abs(dft_freq_phase(xb(N1), N1)[\"dft\"]), linefmt = 'B')"
   ]
  },
  {
   "cell_type": "markdown",
   "metadata": {},
   "source": [
    "## Question 3\n",
    "\n",
    "Plot the $32$ point DFT of the following signals and comment on\n",
    "\tthe spectral estimate.\n",
    "\t\n",
    "\ta. $x[n] = \\cos (3\\pi n / 8 )$\n",
    "\tb. $x[n] = \\cos (3\\pi n / 16)$\n",
    "\tc. $x[n] = \\cos (3\\pi n / 17)$\n"
   ]
  },
  {
   "cell_type": "code",
   "execution_count": null,
   "metadata": {},
   "outputs": [],
   "source": []
  },
  {
   "cell_type": "markdown",
   "metadata": {},
   "source": [
    "## Question 4\n",
    "\n",
    "Estimation of signal corrupted by noise: \n",
    "\tGenerate the signal $ s[n] = \\cos(\\pi 5 n/32) + \\cos(\\pi 21 n/64)$ for \n",
    "\t256 samples.  Generate a noisy version of the signal $x[n]$ by adding \n",
    "\twhite gaussian noise $e[n]$ with variance $0.3$ (use function {\\em randn} \n",
    "\tto generate the noise) to the original signal $s[n]$. Compute the energy \n",
    "\tin the error signal $\\sum_n (x[n] - s[n])^2$.\n",
    "\t\n",
    "\n",
    "a. Plot the 256 point DFTs $S[k]$ and $X[k]$. Find the set \n",
    "\t$\\mathcal{S}_{nz}$ of the values of $k$ for which $S[k]$ is non-zero.\n",
    "\tFind $\\hat{X}[k] = X[k]$ if $k\\in \\mathcal{S}_{nz}$\n",
    "\tand zero otherwise.  \n",
    "    \n",
    "   b. Find the IDFT $\\hat{x}[n]$ from $\\hat{X}[k]$ to \n",
    "      recover the original signal.  Plot $\\hat{x}[n]$.  Find the error signal \n",
    "\t energy after recovery $\\sum_n (\\hat{x}[n] - s[n])^2$\n",
    "\t"
   ]
  },
  {
   "cell_type": "code",
   "execution_count": null,
   "metadata": {},
   "outputs": [],
   "source": []
  },
  {
   "cell_type": "markdown",
   "metadata": {},
   "source": [
    "## Question 5\n",
    "\n",
    "Consider the sequence $x[n]=n$ for $0 \\leqslant n \\leqslant 8$, compute and plot N-point DFT of $x[n]$ for \n",
    "\t$N=5, 8,$ and $16$. Also, compute and plot IDFT of these N-DFT's for the values $n=-25:25$. Make out\n",
    "\tthe inferences which carry marks. (Use summuation formula to do this problem) "
   ]
  },
  {
   "cell_type": "code",
   "execution_count": null,
   "metadata": {},
   "outputs": [],
   "source": []
  },
  {
   "cell_type": "markdown",
   "metadata": {},
   "source": [
    "## Question 6\n",
    "\n",
    "Generate the $8 \\times 8$ DFT Matrix, and show that the Normalized DFT matrix is Unitary Matrix.  "
   ]
  },
  {
   "cell_type": "code",
   "execution_count": null,
   "metadata": {},
   "outputs": [],
   "source": []
  },
  {
   "cell_type": "markdown",
   "metadata": {},
   "source": [
    "## Question 7\n",
    "\n",
    "Find the Linear convolution between the following sequences\n",
    "\n",
    "\ta. $x[n] = \\{\\textbf{1},3,-2,1\\}$ \n",
    "\tb. $h[n] = \\{\\textbf{1},1\\}$\n",
    "\t\t\n",
    "\n",
    "using the Circualr convolution."
   ]
  },
  {
   "cell_type": "code",
   "execution_count": null,
   "metadata": {},
   "outputs": [],
   "source": []
  },
  {
   "cell_type": "markdown",
   "metadata": {},
   "source": [
    "## Question 8\n",
    "\n",
    "Find the Linear convolution between the following sequences \n",
    "\n",
    " a. $x[n] = \\{1,1,0,0,0,0,0,1\\}$\n",
    " b. $h[n] = \\{0,1,1,0,0,0,-1,-1,-1\\}$\n",
    "\n",
    "using DFT Method. (Use FFT command to do this.)\n"
   ]
  },
  {
   "cell_type": "code",
   "execution_count": null,
   "metadata": {},
   "outputs": [],
   "source": []
  }
 ],
 "metadata": {
  "kernelspec": {
   "display_name": "Python 3 (ipykernel)",
   "language": "python",
   "name": "python3"
  },
  "language_info": {
   "codemirror_mode": {
    "name": "ipython",
    "version": 3
   },
   "file_extension": ".py",
   "mimetype": "text/x-python",
   "name": "python",
   "nbconvert_exporter": "python",
   "pygments_lexer": "ipython3",
   "version": "3.7.16"
  }
 },
 "nbformat": 4,
 "nbformat_minor": 4
}
