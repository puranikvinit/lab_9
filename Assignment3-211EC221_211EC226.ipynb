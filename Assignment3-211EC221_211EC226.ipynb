{
 "cells": [
  {
   "cell_type": "code",
   "execution_count": 1,
   "metadata": {},
   "outputs": [],
   "source": [
    "import numpy as np\n",
    "import matplotlib.pyplot as plt\n",
    "import cmath as cm"
   ]
  },
  {
   "cell_type": "code",
   "execution_count": 33,
   "metadata": {},
   "outputs": [],
   "source": [
    "def dft_freq_phase(xn, N):\n",
    "    res = []\n",
    "    for k in range(0, N):\n",
    "        sum = 0\n",
    "        for i in range(0, N):\n",
    "            sum += xn[i] * np.exp(-1j * 2 * np.pi * i * k / N)\n",
    "        res.append(sum)\n",
    "\n",
    "    freq = np.fft.fftfreq(N)\n",
    "        \n",
    "    xn_phase = []\n",
    "    for i in range(0, N):\n",
    "        xn_phase.append(cm.phase(res[i]))\n",
    "    \n",
    "    return {\n",
    "        \"dft\": res,\n",
    "        \"freq\": freq,\n",
    "        \"phase\": xn_phase\n",
    "    }"
   ]
  },
  {
   "cell_type": "markdown",
   "metadata": {},
   "source": [
    "## Question 1\n",
    "\n",
    "Compute the 8-point DFT of the following sequences. Plot the magnitude \n",
    "\tand phase spectrum. Observe the symmetry properties\n",
    "\t\n",
    "\ta.  $x[n] = \\{1,1,0,0,0,0,0,1\\}$\n",
    "\tb. $x[n] = \\{0,1,1,0,0,0,-1,-1\\}$"
   ]
  },
  {
   "cell_type": "code",
   "execution_count": 3,
   "metadata": {},
   "outputs": [
    {
     "name": "stderr",
     "output_type": "stream",
     "text": [
      "/home/dsdlab/anaconda3/lib/python3.7/site-packages/ipykernel_launcher.py:7: MatplotlibDeprecationWarning: Support for uppercase single-letter colors is deprecated since Matplotlib 3.1 and will be removed in 3.3; please use lowercase instead.\n",
      "  import sys\n",
      "/home/dsdlab/anaconda3/lib/python3.7/site-packages/ipykernel_launcher.py:7: UserWarning: In Matplotlib 3.3 individual lines on a stem plot will be added as a LineCollection instead of individual lines. This significantly improves the performance of a stem plot. To remove this warning and switch to the new behaviour, set the \"use_line_collection\" keyword argument to True.\n",
      "  import sys\n",
      "/home/dsdlab/anaconda3/lib/python3.7/site-packages/ipykernel_launcher.py:9: MatplotlibDeprecationWarning: Support for uppercase single-letter colors is deprecated since Matplotlib 3.1 and will be removed in 3.3; please use lowercase instead.\n",
      "  if __name__ == '__main__':\n",
      "/home/dsdlab/anaconda3/lib/python3.7/site-packages/ipykernel_launcher.py:9: UserWarning: In Matplotlib 3.3 individual lines on a stem plot will be added as a LineCollection instead of individual lines. This significantly improves the performance of a stem plot. To remove this warning and switch to the new behaviour, set the \"use_line_collection\" keyword argument to True.\n",
      "  if __name__ == '__main__':\n"
     ]
    },
    {
     "data": {
      "text/plain": [
       "<StemContainer object of 3 artists>"
      ]
     },
     "execution_count": 3,
     "metadata": {},
     "output_type": "execute_result"
    },
    {
     "data": {
      "image/png": "[encoded data removed]",
      "text/plain": [
       "<Figure size 432x288 with 1 Axes>"
      ]
     },
     "metadata": {
      "needs_background": "light"
     },
     "output_type": "display_data"
    }
   ],
   "source": [
    "x1 = [1,1,0,0,0,0,0,1]\n",
    "x2 = [0,1,1,0,0,0,-1,-1]\n",
    "N = 8\n",
    "\n",
    "x1_dft = dft_freq_phase(x1,N)\n",
    "\n",
    "plt.stem(x1_dft[\"freq\"], np.abs(x1_dft[\"dft\"]), linefmt = 'R', markerfmt = 'X')\n",
    "\n",
    "plt.stem(x1_dft[\"freq\"], x1_dft[\"phase\"], linefmt = 'B')"
   ]
  },
  {
   "cell_type": "markdown",
   "metadata": {},
   "source": [
    "## Question 2\n",
    "\n",
    "Generate the finite duration sequence $x[n]= 0.5 (1-\\cos(\\pi n/20))$, $0\\leq n <20$.  \n",
    "\n",
    "      a.  Append the sequence with sufficient number of zeros to compute the DFT of the sequence with length              N=32 and 256. Plot the DFT and comment on the effects of zero padding.\n",
    "        \n",
    "\tb.  Insert 16 zeros in the middle of the sequence and perform a DFT with N=32.\n",
    "\tNote the difference in the spectrum\n",
    "        \n",
    "\tc.  Insert 16 zeros in the beginning of the sequence and repeat.\n"
   ]
  },
  {
   "cell_type": "code",
   "execution_count": 4,
   "metadata": {},
   "outputs": [
    {
     "name": "stderr",
     "output_type": "stream",
     "text": [
      "/home/dsdlab/anaconda3/lib/python3.7/site-packages/ipykernel_launcher.py:14: UserWarning: In Matplotlib 3.3 individual lines on a stem plot will be added as a LineCollection instead of individual lines. This significantly improves the performance of a stem plot. To remove this warning and switch to the new behaviour, set the \"use_line_collection\" keyword argument to True.\n",
      "  \n",
      "/home/dsdlab/anaconda3/lib/python3.7/site-packages/ipykernel_launcher.py:15: UserWarning: In Matplotlib 3.3 individual lines on a stem plot will be added as a LineCollection instead of individual lines. This significantly improves the performance of a stem plot. To remove this warning and switch to the new behaviour, set the \"use_line_collection\" keyword argument to True.\n",
      "  from ipykernel import kernelapp as app\n"
     ]
    },
    {
     "data": {
      "text/plain": [
       "<StemContainer object of 3 artists>"
      ]
     },
     "execution_count": 4,
     "metadata": {},
     "output_type": "execute_result"
    },
    {
     "data": {
      "image/png": "[encoded data removed]",
      "text/plain": [
       "<Figure size 432x288 with 1 Axes>"
      ]
     },
     "metadata": {
      "needs_background": "light"
     },
     "output_type": "display_data"
    }
   ],
   "source": [
    "n = 20\n",
    "\n",
    "N1 = 32\n",
    "N2 = 256\n",
    "\n",
    "def xa(N):\n",
    "    res = []\n",
    "    for i in range(0, n):\n",
    "        res.append(0.5 * (1 - np.cos(np.pi * i / 20)))\n",
    "    for i in range(n, N):\n",
    "        res.append(0)\n",
    "    return res\n",
    "\n",
    "plt.stem(dft_freq_phase(xa(N1), N1)[\"freq\"], np.abs(dft_freq_phase(xa(N1), N1)[\"dft\"]), linefmt = 'B')\n",
    "plt.stem(dft_freq_phase(xa(N2), N2)[\"freq\"], np.abs(dft_freq_phase(xa(N2), N2)[\"dft\"]), linefmt = 'R')"
   ]
  },
  {
   "cell_type": "code",
   "execution_count": 5,
   "metadata": {},
   "outputs": [
    {
     "name": "stderr",
     "output_type": "stream",
     "text": [
      "/home/dsdlab/anaconda3/lib/python3.7/site-packages/ipykernel_launcher.py:11: UserWarning: In Matplotlib 3.3 individual lines on a stem plot will be added as a LineCollection instead of individual lines. This significantly improves the performance of a stem plot. To remove this warning and switch to the new behaviour, set the \"use_line_collection\" keyword argument to True.\n",
      "  # This is added back by InteractiveShellApp.init_path()\n"
     ]
    },
    {
     "data": {
      "text/plain": [
       "<StemContainer object of 3 artists>"
      ]
     },
     "execution_count": 5,
     "metadata": {},
     "output_type": "execute_result"
    },
    {
     "data": {
      "image/png": "[encoded data removed]",
      "text/plain": [
       "<Figure size 432x288 with 1 Axes>"
      ]
     },
     "metadata": {
      "needs_background": "light"
     },
     "output_type": "display_data"
    }
   ],
   "source": [
    "def xb(N):\n",
    "    res = []\n",
    "    for i in range(0, int(n/2)):\n",
    "        res.append(0.5 * (1 - np.cos(np.pi * i / 20)))\n",
    "    for i in range(int(n/2), int(n/2) + 16):\n",
    "        res.append(0)\n",
    "    for i in range(int(n/2) + 16, N):\n",
    "        res.append(0.5 * (1 - np.cos(np.pi * i / 20)))\n",
    "    return res\n",
    "\n",
    "plt.stem(dft_freq_phase(xb(N1), N1)[\"freq\"], np.abs(dft_freq_phase(xb(N1), N1)[\"dft\"]), linefmt = 'B')"
   ]
  },
  {
   "cell_type": "code",
   "execution_count": 6,
   "metadata": {},
   "outputs": [
    {
     "name": "stderr",
     "output_type": "stream",
     "text": [
      "/home/dsdlab/anaconda3/lib/python3.7/site-packages/ipykernel_launcher.py:9: UserWarning: In Matplotlib 3.3 individual lines on a stem plot will be added as a LineCollection instead of individual lines. This significantly improves the performance of a stem plot. To remove this warning and switch to the new behaviour, set the \"use_line_collection\" keyword argument to True.\n",
      "  if __name__ == '__main__':\n"
     ]
    },
    {
     "data": {
      "text/plain": [
       "<StemContainer object of 3 artists>"
      ]
     },
     "execution_count": 6,
     "metadata": {},
     "output_type": "execute_result"
    },
    {
     "data": {
      "image/png": "[encoded data removed]",
      "text/plain": [
       "<Figure size 432x288 with 1 Axes>"
      ]
     },
     "metadata": {
      "needs_background": "light"
     },
     "output_type": "display_data"
    }
   ],
   "source": [
    "def xc(N):\n",
    "    res = []\n",
    "    for i in range(0, 16):\n",
    "        res.append(0)\n",
    "    for i in range(0, n):\n",
    "        res.append(0.5 * (1 - np.cos(np.pi * i / 20)))\n",
    "    return res\n",
    "\n",
    "plt.stem(dft_freq_phase(xc(N1), N1)[\"freq\"], np.abs(dft_freq_phase(xc(N1), N1)[\"dft\"]), linefmt = 'B')"
   ]
  },
  {
   "cell_type": "markdown",
   "metadata": {},
   "source": [
    "## Question 3\n",
    "\n",
    "Plot the $32$ point DFT of the following signals and comment on\n",
    "\tthe spectral estimate.\n",
    "\t\n",
    "\ta. $x[n] = \\cos (3\\pi n / 8 )$\n",
    "\tb. $x[n] = \\cos (3\\pi n / 16)$\n",
    "\tc. $x[n] = \\cos (3\\pi n / 17)$\n"
   ]
  },
  {
   "cell_type": "code",
   "execution_count": 7,
   "metadata": {},
   "outputs": [
    {
     "name": "stderr",
     "output_type": "stream",
     "text": [
      "/home/dsdlab/anaconda3/lib/python3.7/site-packages/ipykernel_launcher.py:9: UserWarning: In Matplotlib 3.3 individual lines on a stem plot will be added as a LineCollection instead of individual lines. This significantly improves the performance of a stem plot. To remove this warning and switch to the new behaviour, set the \"use_line_collection\" keyword argument to True.\n",
      "  if __name__ == '__main__':\n"
     ]
    },
    {
     "data": {
      "text/plain": [
       "<StemContainer object of 3 artists>"
      ]
     },
     "execution_count": 7,
     "metadata": {},
     "output_type": "execute_result"
    },
    {
     "data": {
      "image/png": "[encoded data removed]",
      "text/plain": [
       "<Figure size 432x288 with 1 Axes>"
      ]
     },
     "metadata": {
      "needs_background": "light"
     },
     "output_type": "display_data"
    }
   ],
   "source": [
    "x1n = []\n",
    "N = 32\n",
    "\n",
    "for i in range(0, N):\n",
    "    x1n.append(np.cos(3 * np.pi * i / 8))\n",
    "    \n",
    "x1n_dft = dft_freq_phase(x1n, N)\n",
    "\n",
    "plt.stem(x1n_dft[\"freq\"], np.abs(dft_freq_phase(x1n, N)[\"dft\"]))\n",
    "\n",
    "# Comment:"
   ]
  },
  {
   "cell_type": "code",
   "execution_count": 8,
   "metadata": {},
   "outputs": [
    {
     "name": "stderr",
     "output_type": "stream",
     "text": [
      "/home/dsdlab/anaconda3/lib/python3.7/site-packages/ipykernel_launcher.py:8: UserWarning: In Matplotlib 3.3 individual lines on a stem plot will be added as a LineCollection instead of individual lines. This significantly improves the performance of a stem plot. To remove this warning and switch to the new behaviour, set the \"use_line_collection\" keyword argument to True.\n",
      "  \n"
     ]
    },
    {
     "data": {
      "text/plain": [
       "<StemContainer object of 3 artists>"
      ]
     },
     "execution_count": 8,
     "metadata": {},
     "output_type": "execute_result"
    },
    {
     "data": {
      "image/png": "[encoded data removed]",
      "text/plain": [
       "<Figure size 432x288 with 1 Axes>"
      ]
     },
     "metadata": {
      "needs_background": "light"
     },
     "output_type": "display_data"
    }
   ],
   "source": [
    "x2n = []\n",
    "\n",
    "for i in range(0, N):\n",
    "    x2n.append(np.cos(3 * np.pi * i / 16))\n",
    "    \n",
    "x2n_dft = dft_freq_phase(x2n, N)\n",
    "\n",
    "plt.stem(x2n_dft[\"freq\"], np.abs(dft_freq_phase(x2n, N1)[\"dft\"]))\n",
    "\n",
    "# Comment:"
   ]
  },
  {
   "cell_type": "code",
   "execution_count": 9,
   "metadata": {},
   "outputs": [
    {
     "name": "stderr",
     "output_type": "stream",
     "text": [
      "/home/dsdlab/anaconda3/lib/python3.7/site-packages/ipykernel_launcher.py:8: UserWarning: In Matplotlib 3.3 individual lines on a stem plot will be added as a LineCollection instead of individual lines. This significantly improves the performance of a stem plot. To remove this warning and switch to the new behaviour, set the \"use_line_collection\" keyword argument to True.\n",
      "  \n"
     ]
    },
    {
     "data": {
      "text/plain": [
       "<StemContainer object of 3 artists>"
      ]
     },
     "execution_count": 9,
     "metadata": {},
     "output_type": "execute_result"
    },
    {
     "data": {
      "image/png": "[encoded data removed]",
      "text/plain": [
       "<Figure size 432x288 with 1 Axes>"
      ]
     },
     "metadata": {
      "needs_background": "light"
     },
     "output_type": "display_data"
    }
   ],
   "source": [
    "x3n = []\n",
    "\n",
    "for i in range(0, N):\n",
    "    x3n.append(np.cos(3 * np.pi * i / 17))\n",
    "    \n",
    "x3n_dft = dft_freq_phase(x3n, N)\n",
    "\n",
    "plt.stem(x3n_dft[\"freq\"], np.abs(dft_freq_phase(x3n, N)[\"dft\"]))\n",
    "\n",
    "# Comment:"
   ]
  },
  {
   "cell_type": "markdown",
   "metadata": {},
   "source": [
    "## Question 4\n",
    "\n",
    "Estimation of signal corrupted by noise: \n",
    "\tGenerate the signal $ s[n] = \\cos(\\pi 5 n/32) + \\cos(\\pi 21 n/64)$ for \n",
    "\t256 samples.  Generate a noisy version of the signal $x[n]$ by adding \n",
    "\twhite gaussian noise $e[n]$ with variance $0.3$ (use function {\\em randn} \n",
    "\tto generate the noise) to the original signal $s[n]$. Compute the energy \n",
    "\tin the error signal $\\sum_n (x[n] - s[n])^2$.\n",
    "\t\n",
    "\n",
    "a. Plot the 256 point DFTs $S[k]$ and $X[k]$. Find the set \n",
    "\t$\\mathcal{S}_{nz}$ of the values of $k$ for which $S[k]$ is non-zero.\n",
    "\tFind $\\hat{X}[k] = X[k]$ if $k\\in \\mathcal{S}_{nz}$\n",
    "\tand zero otherwise.  \n",
    "    \n",
    "   b. Find the IDFT $\\hat{x}[n]$ from $\\hat{X}[k]$ to \n",
    "      recover the original signal.  Plot $\\hat{x}[n]$.  Find the error signal \n",
    "\t energy after recovery $\\sum_n (\\hat{x}[n] - s[n])^2$\n",
    "\t"
   ]
  },
  {
   "cell_type": "code",
   "execution_count": 10,
   "metadata": {},
   "outputs": [
    {
     "name": "stderr",
     "output_type": "stream",
     "text": [
      "/home/dsdlab/anaconda3/lib/python3.7/site-packages/ipykernel_launcher.py:18: UserWarning: In Matplotlib 3.3 individual lines on a stem plot will be added as a LineCollection instead of individual lines. This significantly improves the performance of a stem plot. To remove this warning and switch to the new behaviour, set the \"use_line_collection\" keyword argument to True.\n",
      "/home/dsdlab/anaconda3/lib/python3.7/site-packages/ipykernel_launcher.py:20: UserWarning: In Matplotlib 3.3 individual lines on a stem plot will be added as a LineCollection instead of individual lines. This significantly improves the performance of a stem plot. To remove this warning and switch to the new behaviour, set the \"use_line_collection\" keyword argument to True.\n"
     ]
    },
    {
     "data": {
      "text/plain": [
       "<StemContainer object of 3 artists>"
      ]
     },
     "execution_count": 10,
     "metadata": {},
     "output_type": "execute_result"
    },
    {
     "data": {
      "image/png": "[encoded data removed]",
      "text/plain": [
       "<Figure size 432x288 with 2 Axes>"
      ]
     },
     "metadata": {
      "needs_background": "light"
     },
     "output_type": "display_data"
    }
   ],
   "source": [
    "s = []\n",
    "n = []\n",
    "x = [] \n",
    "N = 256\n",
    "energy = 0\n",
    "\n",
    "n = np.random.randn(N)\n",
    "\n",
    "for i in range(0, N):\n",
    "    s.append(np.cos(np.pi * 5 * i / 32) + np.cos(np.pi * 21 * i / 64))\n",
    "    x.append(s[i]+n[i])\n",
    "    energy += (x[i] - s[i])**2\n",
    "\n",
    "s_dft = dft_freq_phase(s,N)\n",
    "x_dft = dft_freq_phase(x,N)\n",
    "\n",
    "plt.subplot(2,1,1)\n",
    "plt.stem(s_dft[\"freq\"], np.abs(s_dft[\"dft\"]), linefmt = 'B')\n",
    "plt.subplot(2,1,2)\n",
    "plt.stem(x_dft[\"freq\"], np.abs(x_dft[\"dft\"]), linefmt = 'B')"
   ]
  },
  {
   "cell_type": "code",
   "execution_count": 11,
   "metadata": {},
   "outputs": [
    {
     "name": "stderr",
     "output_type": "stream",
     "text": [
      "/home/dsdlab/anaconda3/lib/python3.7/site-packages/numpy/core/numeric.py:501: ComplexWarning: Casting complex values to real discards the imaginary part\n",
      "  return array(a, dtype, copy=False, order=order)\n",
      "/home/dsdlab/anaconda3/lib/python3.7/site-packages/ipykernel_launcher.py:18: UserWarning: In Matplotlib 3.3 individual lines on a stem plot will be added as a LineCollection instead of individual lines. This significantly improves the performance of a stem plot. To remove this warning and switch to the new behaviour, set the \"use_line_collection\" keyword argument to True.\n"
     ]
    },
    {
     "name": "stdout",
     "output_type": "stream",
     "text": [
      "Old Noise Energy = 228.67851502491487, new Noise Energy = 2.6548485815754785e-26\n"
     ]
    },
    {
     "data": {
      "text/plain": [
       "[20, 42, 214, 236]"
      ]
     },
     "execution_count": 11,
     "metadata": {},
     "output_type": "execute_result"
    },
    {
     "data": {
      "image/png": "[encoded data removed]",
      "text/plain": [
       "<Figure size 432x288 with 1 Axes>"
      ]
     },
     "metadata": {
      "needs_background": "light"
     },
     "output_type": "display_data"
    }
   ],
   "source": [
    "xhat = []\n",
    "snz = []\n",
    "newEnergy = 0\n",
    "\n",
    "for i in range(0,N):\n",
    "    if(np.real(s_dft[\"dft\"])[i] >= 10**-10):\n",
    "        snz.append(i)\n",
    "        \n",
    "for i in range(0,N):\n",
    "    if i in snz:\n",
    "        xhat.append(s_dft[\"dft\"][i])\n",
    "        continue\n",
    "    else:\n",
    "        xhat.append(0)\n",
    "    \n",
    "xn = np.fft.ifft(xhat)\n",
    "# np.abs(s_dft[\"dft\"])\n",
    "plt.stem(range(N), xn, linefmt = 'B')\n",
    "\n",
    "for i in range(N):\n",
    "    newEnergy += (np.real(xn)[i]-s[i])**2\n",
    "    \n",
    "print(f'Old Noise Energy = {energy}, new Noise Energy = {newEnergy}')\n",
    "snz"
   ]
  },
  {
   "cell_type": "markdown",
   "metadata": {},
   "source": [
    "## Question 5\n",
    "\n",
    "Consider the sequence $x[n]=n$ for $0 \\leqslant n \\leqslant 8$, compute and plot N-point DFT of $x[n]$ for \n",
    "\t$N=5, 8,$ and $16$. Also, compute and plot IDFT of these N-DFT's for the values $n=-25:25$. Make out\n",
    "\tthe inferences which carry marks. (Use summuation formula to do this problem) "
   ]
  },
  {
   "cell_type": "code",
   "execution_count": 27,
   "metadata": {},
   "outputs": [
    {
     "name": "stderr",
     "output_type": "stream",
     "text": [
      "/home/dsdlab/anaconda3/lib/python3.7/site-packages/ipykernel_launcher.py:12: UserWarning: In Matplotlib 3.3 individual lines on a stem plot will be added as a LineCollection instead of individual lines. This significantly improves the performance of a stem plot. To remove this warning and switch to the new behaviour, set the \"use_line_collection\" keyword argument to True.\n",
      "  if sys.path[0] == '':\n"
     ]
    },
    {
     "data": {
      "text/plain": [
       "<StemContainer object of 3 artists>"
      ]
     },
     "execution_count": 27,
     "metadata": {},
     "output_type": "execute_result"
    },
    {
     "data": {
      "image/png": "[encoded data removed]",
      "text/plain": [
       "<Figure size 432x288 with 1 Axes>"
      ]
     },
     "metadata": {
      "needs_background": "light"
     },
     "output_type": "display_data"
    }
   ],
   "source": [
    "def xn(lower_limit, upper_limit):\n",
    "    res = []\n",
    "    for i in range(lower_limit, 9):\n",
    "        res.append(i)\n",
    "    if upper_limit > 8:\n",
    "        for i in range(9, upper_limit + 1):\n",
    "            res.append(0)\n",
    "    return res\n",
    "\n",
    "N = 16\n",
    "x1_dft = dft_freq_phase(xn(0, N), N)\n",
    "plt.stem(x1_dft[\"freq\"], np.abs(x1_dft[\"dft\"]))\n",
    "\n",
    "# x = []\n",
    "# for i in range(0,9):\n",
    "#     x.append(i)\n",
    "\n",
    "# N = 5\n",
    "# x_dft = dft_freq_phase(x,N)\n",
    "# plt.stem(x_dft[\"freq\"], np.abs(x_dft[\"dft\"]))"
   ]
  },
  {
   "cell_type": "code",
   "execution_count": 28,
   "metadata": {},
   "outputs": [
    {
     "name": "stderr",
     "output_type": "stream",
     "text": [
      "/home/dsdlab/anaconda3/lib/python3.7/site-packages/ipykernel_launcher.py:3: UserWarning: In Matplotlib 3.3 individual lines on a stem plot will be added as a LineCollection instead of individual lines. This significantly improves the performance of a stem plot. To remove this warning and switch to the new behaviour, set the \"use_line_collection\" keyword argument to True.\n",
      "  This is separate from the ipykernel package so we can avoid doing imports until\n"
     ]
    },
    {
     "data": {
      "text/plain": [
       "<StemContainer object of 3 artists>"
      ]
     },
     "execution_count": 28,
     "metadata": {},
     "output_type": "execute_result"
    },
    {
     "data": {
      "image/png": "[encoded data removed]",
      "text/plain": [
       "<Figure size 432x288 with 1 Axes>"
      ]
     },
     "metadata": {
      "needs_background": "light"
     },
     "output_type": "display_data"
    }
   ],
   "source": [
    "N = 8\n",
    "x1_dft = dft_freq_phase(xn(0,N), N)\n",
    "plt.stem(x1_dft[\"freq\"], np.abs(x1_dft[\"dft\"]))\n",
    "\n",
    "# N = 8\n",
    "# x_dft = dft_freq_phase(x,N)\n",
    "# plt.stem(x_dft[\"freq\"], np.abs(x_dft[\"dft\"]))"
   ]
  },
  {
   "cell_type": "code",
   "execution_count": 29,
   "metadata": {},
   "outputs": [
    {
     "name": "stderr",
     "output_type": "stream",
     "text": [
      "/home/dsdlab/anaconda3/lib/python3.7/site-packages/ipykernel_launcher.py:3: UserWarning: In Matplotlib 3.3 individual lines on a stem plot will be added as a LineCollection instead of individual lines. This significantly improves the performance of a stem plot. To remove this warning and switch to the new behaviour, set the \"use_line_collection\" keyword argument to True.\n",
      "  This is separate from the ipykernel package so we can avoid doing imports until\n"
     ]
    },
    {
     "data": {
      "text/plain": [
       "<StemContainer object of 3 artists>"
      ]
     },
     "execution_count": 29,
     "metadata": {},
     "output_type": "execute_result"
    },
    {
     "data": {
      "image/png": "[encoded data removed]",
      "text/plain": [
       "<Figure size 432x288 with 1 Axes>"
      ]
     },
     "metadata": {
      "needs_background": "light"
     },
     "output_type": "display_data"
    }
   ],
   "source": [
    "N = 16\n",
    "x1_dft = dft_freq_phase(xn(0,N), N)\n",
    "plt.stem(x1_dft[\"freq\"], np.abs(x1_dft[\"dft\"]))\n",
    "\n",
    "# N = 16\n",
    "# x_dft = dft_freq_phase(x,N)\n",
    "# plt.stem(x_dft[\"freq\"], np.abs(x_dft[\"dft\"]))"
   ]
  },
  {
   "cell_type": "code",
   "execution_count": 37,
   "metadata": {},
   "outputs": [
    {
     "name": "stderr",
     "output_type": "stream",
     "text": [
      "/home/dsdlab/anaconda3/lib/python3.7/site-packages/ipykernel_launcher.py:12: UserWarning: In Matplotlib 3.3 individual lines on a stem plot will be added as a LineCollection instead of individual lines. This significantly improves the performance of a stem plot. To remove this warning and switch to the new behaviour, set the \"use_line_collection\" keyword argument to True.\n",
      "  if sys.path[0] == '':\n",
      "/home/dsdlab/anaconda3/lib/python3.7/site-packages/numpy/core/numeric.py:501: ComplexWarning: Casting complex values to real discards the imaginary part\n",
      "  return array(a, dtype, copy=False, order=order)\n",
      "/home/dsdlab/anaconda3/lib/python3.7/site-packages/numpy/core/numeric.py:501: ComplexWarning: Casting complex values to real discards the imaginary part\n",
      "  return array(a, dtype, copy=False, order=order)\n",
      "/home/dsdlab/anaconda3/lib/python3.7/site-packages/numpy/core/numeric.py:501: ComplexWarning: Casting complex values to real discards the imaginary part\n",
      "  return array(a, dtype, copy=False, order=order)\n",
      "/home/dsdlab/anaconda3/lib/python3.7/site-packages/numpy/core/numeric.py:501: ComplexWarning: Casting complex values to real discards the imaginary part\n",
      "  return array(a, dtype, copy=False, order=order)\n",
      "/home/dsdlab/anaconda3/lib/python3.7/site-packages/numpy/core/numeric.py:501: ComplexWarning: Casting complex values to real discards the imaginary part\n",
      "  return array(a, dtype, copy=False, order=order)\n",
      "/home/dsdlab/anaconda3/lib/python3.7/site-packages/numpy/core/numeric.py:501: ComplexWarning: Casting complex values to real discards the imaginary part\n",
      "  return array(a, dtype, copy=False, order=order)\n",
      "/home/dsdlab/anaconda3/lib/python3.7/site-packages/numpy/core/numeric.py:501: ComplexWarning: Casting complex values to real discards the imaginary part\n",
      "  return array(a, dtype, copy=False, order=order)\n",
      "/home/dsdlab/anaconda3/lib/python3.7/site-packages/numpy/core/numeric.py:501: ComplexWarning: Casting complex values to real discards the imaginary part\n",
      "  return array(a, dtype, copy=False, order=order)\n",
      "/home/dsdlab/anaconda3/lib/python3.7/site-packages/numpy/core/numeric.py:501: ComplexWarning: Casting complex values to real discards the imaginary part\n",
      "  return array(a, dtype, copy=False, order=order)\n",
      "/home/dsdlab/anaconda3/lib/python3.7/site-packages/numpy/core/numeric.py:501: ComplexWarning: Casting complex values to real discards the imaginary part\n",
      "  return array(a, dtype, copy=False, order=order)\n",
      "/home/dsdlab/anaconda3/lib/python3.7/site-packages/numpy/core/numeric.py:501: ComplexWarning: Casting complex values to real discards the imaginary part\n",
      "  return array(a, dtype, copy=False, order=order)\n",
      "/home/dsdlab/anaconda3/lib/python3.7/site-packages/numpy/core/numeric.py:501: ComplexWarning: Casting complex values to real discards the imaginary part\n",
      "  return array(a, dtype, copy=False, order=order)\n",
      "/home/dsdlab/anaconda3/lib/python3.7/site-packages/numpy/core/numeric.py:501: ComplexWarning: Casting complex values to real discards the imaginary part\n",
      "  return array(a, dtype, copy=False, order=order)\n",
      "/home/dsdlab/anaconda3/lib/python3.7/site-packages/numpy/core/numeric.py:501: ComplexWarning: Casting complex values to real discards the imaginary part\n",
      "  return array(a, dtype, copy=False, order=order)\n",
      "/home/dsdlab/anaconda3/lib/python3.7/site-packages/numpy/core/numeric.py:501: ComplexWarning: Casting complex values to real discards the imaginary part\n",
      "  return array(a, dtype, copy=False, order=order)\n",
      "/home/dsdlab/anaconda3/lib/python3.7/site-packages/numpy/core/numeric.py:501: ComplexWarning: Casting complex values to real discards the imaginary part\n",
      "  return array(a, dtype, copy=False, order=order)\n",
      "/home/dsdlab/anaconda3/lib/python3.7/site-packages/numpy/core/numeric.py:501: ComplexWarning: Casting complex values to real discards the imaginary part\n",
      "  return array(a, dtype, copy=False, order=order)\n"
     ]
    },
    {
     "data": {
      "text/plain": [
       "<StemContainer object of 3 artists>"
      ]
     },
     "execution_count": 37,
     "metadata": {},
     "output_type": "execute_result"
    },
    {
     "data": {
      "image/png": "[encoded data removed]",
      "text/plain": [
       "<Figure size 432x288 with 1 Axes>"
      ]
     },
     "metadata": {
      "needs_background": "light"
     },
     "output_type": "display_data"
    }
   ],
   "source": [
    "def idft(xn, N):\n",
    "    res = []\n",
    "    for k in range(0, N):\n",
    "        sum = 0\n",
    "        for i in range(0, N):\n",
    "            sum += xn[i] * np.exp(+1j * 2 * np.pi * i * k / N)\n",
    "        res.append(sum)\n",
    "        \n",
    "    return res\n",
    "\n",
    "kb = idft(x1_dft[\"dft\"],N)\n",
    "plt.stem(kb)"
   ]
  },
  {
   "cell_type": "markdown",
   "metadata": {},
   "source": [
    "## Question 6\n",
    "\n",
    "Generate the $8 \\times 8$ DFT Matrix, and show that the Normalized DFT matrix is Unitary Matrix.  "
   ]
  },
  {
   "cell_type": "code",
   "execution_count": 16,
   "metadata": {},
   "outputs": [
    {
     "data": {
      "text/plain": [
       "array([[0.125+0.j, 0.125+0.j, 0.125+0.j, 0.125+0.j, 0.125+0.j, 0.125+0.j,\n",
       "        0.125+0.j, 0.125+0.j],\n",
       "       [0.125+0.j, 0.125+0.j, 0.125+0.j, 0.125+0.j, 0.125+0.j, 0.125+0.j,\n",
       "        0.125+0.j, 0.125+0.j],\n",
       "       [0.125+0.j, 0.125+0.j, 0.125+0.j, 0.125+0.j, 0.125+0.j, 0.125+0.j,\n",
       "        0.125+0.j, 0.125+0.j],\n",
       "       [0.125+0.j, 0.125+0.j, 0.125+0.j, 0.125+0.j, 0.125+0.j, 0.125+0.j,\n",
       "        0.125+0.j, 0.125+0.j],\n",
       "       [0.125+0.j, 0.125+0.j, 0.125+0.j, 0.125+0.j, 0.125+0.j, 0.125+0.j,\n",
       "        0.125+0.j, 0.125+0.j],\n",
       "       [0.125+0.j, 0.125+0.j, 0.125+0.j, 0.125+0.j, 0.125+0.j, 0.125+0.j,\n",
       "        0.125+0.j, 0.125+0.j],\n",
       "       [0.125+0.j, 0.125+0.j, 0.125+0.j, 0.125+0.j, 0.125+0.j, 0.125+0.j,\n",
       "        0.125+0.j, 0.125+0.j],\n",
       "       [0.125+0.j, 0.125+0.j, 0.125+0.j, 0.125+0.j, 0.125+0.j, 0.125+0.j,\n",
       "        0.125+0.j, 0.125+0.j]])"
      ]
     },
     "execution_count": 16,
     "metadata": {},
     "output_type": "execute_result"
    }
   ],
   "source": [
    "n = 8\n",
    "dft_matrix = []\n",
    "dft_conj = []\n",
    "\n",
    "for i in range(0, n):\n",
    "    loop_res = []\n",
    "    for k in range(0, n):\n",
    "        loop_res.append((1 / np.sqrt(n)) * np.exp(-2 * np.pi * 1j * i * k / n))\n",
    "    dft_conj.append(np.conjugate(loop_res))\n",
    "    dft_matrix.append(loop_res)\n",
    "    \n",
    "unitary = np. multiply(dft_matrix, dft_conj)\n",
    "unitary\n",
    "\n",
    "# Since the obtained matrix [unitary] has all elements equal to 1/8, the Normalized DFT matrix is a unitary matrix."
   ]
  },
  {
   "cell_type": "markdown",
   "metadata": {},
   "source": [
    "## Question 7\n",
    "\n",
    "Find the Linear convolution between the following sequences\n",
    "\n",
    "\ta. $x[n] = \\{\\textbf{1},3,-2,1\\}$ \n",
    "\tb. $h[n] = \\{\\textbf{1},1\\}$\n",
    "\t\t\n",
    "\n",
    "using the Circualr convolution."
   ]
  },
  {
   "cell_type": "code",
   "execution_count": 17,
   "metadata": {},
   "outputs": [
    {
     "name": "stdout",
     "output_type": "stream",
     "text": [
      "[ 1.  4.  1. -1.  1.]\n"
     ]
    }
   ],
   "source": [
    "xn = [1, 3, -2, 1, 0] # Zero Padding to make the output length = L+M-1\n",
    "hn = [1, 1]\n",
    "\n",
    "# for generating the circular matrix\n",
    "def shifter(matrix):\n",
    "    last = matrix[len(matrix)-1]\n",
    "    x = len(matrix)\n",
    "    result = [0] * x\n",
    "    for i in range(1,len(matrix)):\n",
    "        result[i] = matrix[i-1]\n",
    "    result[0] = last\n",
    "    return result\n",
    "\n",
    "#  finding the circular convolution\n",
    "def findCircularConvolution(x,h,n,m):\n",
    "    primary_matrix = np.zeros((max(n,m),max(n,m)))\n",
    "    for i in range(0,len(primary_matrix[0])):\n",
    "        primary_matrix[0][i] = x[i]\n",
    "    for i in range(1,max(n,m)):\n",
    "        primary_matrix[i] = shifter(primary_matrix[i-1])\n",
    "        ultimate_matrix = np.transpose(primary_matrix)\n",
    "    difference_in_length = abs(n-m)\n",
    "    for i in range(m,m+difference_in_length):\n",
    "        h.append(0)\n",
    "    resultant = np.dot(ultimate_matrix,h)\n",
    "    return resultant\n",
    "\n",
    "circular_convolution_result = findCircularConvolution(xn,hn,len(xn),len(hn))\n",
    "print(circular_convolution_result)"
   ]
  },
  {
   "cell_type": "markdown",
   "metadata": {},
   "source": [
    "## Question 8\n",
    "\n",
    "Find the Linear convolution between the following sequences \n",
    "\n",
    " a. $x[n] = \\{1,1,0,0,0,0,0,1\\}$\n",
    " b. $h[n] = \\{0,1,1,0,0,0,-1,-1,-1\\}$\n",
    "\n",
    "using DFT Method. (Use FFT command to do this.)\n"
   ]
  },
  {
   "cell_type": "code",
   "execution_count": 18,
   "metadata": {},
   "outputs": [
    {
     "data": {
      "text/plain": [
       "array([-5.55111512e-17+0.00000000e+00j,  1.00000000e+00+5.07326818e-18j,\n",
       "        2.00000000e+00+0.00000000e+00j,  1.00000000e+00-3.79021120e-17j,\n",
       "       -2.77555756e-17+0.00000000e+00j,  0.00000000e+00-3.28288438e-17j,\n",
       "       -1.00000000e+00+0.00000000e+00j, -2.00000000e+00+1.01465364e-17j,\n",
       "       -1.00000000e+00+0.00000000e+00j,  1.11022302e-16+5.07326818e-18j,\n",
       "       -1.11022302e-16+0.00000000e+00j,  0.00000000e+00+1.76090393e-17j,\n",
       "       -2.77555756e-17+0.00000000e+00j, -1.00000000e+00+2.26823074e-17j,\n",
       "       -1.00000000e+00+0.00000000e+00j, -1.00000000e+00+1.01465364e-17j])"
      ]
     },
     "execution_count": 18,
     "metadata": {},
     "output_type": "execute_result"
    }
   ],
   "source": [
    "xn = [1, 1, 0, 0, 0, 0, 0, 1, 0, 0, 0, 0, 0, 0, 0, 0]\n",
    "hn = [0, 1, 1, 0, 0, 0, -1, -1, -1, 0, 0, 0, 0, 0, 0, 0]\n",
    "\n",
    "yk = np.multiply(np.fft.fft(hn), np.fft.fft(xn))\n",
    "yk_idft = np.fft.ifft(yk)\n",
    "\n",
    "yk_idft"
   ]
  },
  {
   "cell_type": "code",
   "execution_count": 19,
   "metadata": {},
   "outputs": [
    {
     "data": {
      "text/plain": [
       "array([ 0,  1,  2,  1,  0,  0, -1, -2, -1,  0,  0,  0,  0, -1, -1, -1,  0,\n",
       "        0,  0,  0,  0,  0,  0,  0,  0,  0,  0,  0,  0,  0,  0])"
      ]
     },
     "execution_count": 19,
     "metadata": {},
     "output_type": "execute_result"
    }
   ],
   "source": [
    "z = np.convolve(xn,hn)\n",
    "z"
   ]
  },
  {
   "cell_type": "code",
   "execution_count": 20,
   "metadata": {},
   "outputs": [
    {
     "name": "stdout",
     "output_type": "stream",
     "text": [
      "Help on function ifft in module mkl_fft._numpy_fft:\n",
      "\n",
      "ifft(a, n=None, axis=-1, norm=None)\n",
      "    Compute the one-dimensional inverse discrete Fourier Transform.\n",
      "    \n",
      "    This function computes the inverse of the one-dimensional *n*-point\n",
      "    discrete Fourier transform computed by `fft`.  In other words,\n",
      "    ``ifft(fft(a)) == a`` to within numerical accuracy.\n",
      "    For a general description of the algorithm and definitions,\n",
      "    see `numpy.fft`.\n",
      "    \n",
      "    The input should be ordered in the same way as is returned by `fft`,\n",
      "    i.e.,\n",
      "    \n",
      "    * ``a[0]`` should contain the zero frequency term,\n",
      "    * ``a[1:n//2]`` should contain the positive-frequency terms,\n",
      "    * ``a[n//2 + 1:]`` should contain the negative-frequency terms, in\n",
      "      increasing order starting from the most negative frequency.\n",
      "    \n",
      "    Parameters\n",
      "    ----------\n",
      "    a : array_like\n",
      "        Input array, can be complex.\n",
      "    n : int, optional\n",
      "        Length of the transformed axis of the output.\n",
      "        If `n` is smaller than the length of the input, the input is cropped.\n",
      "        If it is larger, the input is padded with zeros.  If `n` is not given,\n",
      "        the length of the input along the axis specified by `axis` is used.\n",
      "        See notes about padding issues.\n",
      "    axis : int, optional\n",
      "        Axis over which to compute the inverse DFT.  If not given, the last\n",
      "        axis is used.\n",
      "    norm : {None, \"ortho\"}, optional\n",
      "        .. versionadded:: 1.10.0\n",
      "        Normalization mode (see `numpy.fft`). Default is None.\n",
      "    \n",
      "    Returns\n",
      "    -------\n",
      "    out : complex ndarray\n",
      "        The truncated or zero-padded input, transformed along the axis\n",
      "        indicated by `axis`, or the last one if `axis` is not specified.\n",
      "    \n",
      "    Raises\n",
      "    ------\n",
      "    IndexError\n",
      "        If `axes` is larger than the last axis of `a`.\n",
      "    \n",
      "    See Also\n",
      "    --------\n",
      "    numpy.fft : An introduction, with definitions and general explanations.\n",
      "    fft : The one-dimensional (forward) FFT, of which `ifft` is the inverse\n",
      "    ifft2 : The two-dimensional inverse FFT.\n",
      "    ifftn : The n-dimensional inverse FFT.\n",
      "    \n",
      "    Notes\n",
      "    -----\n",
      "    If the input parameter `n` is larger than the size of the input, the input\n",
      "    is padded by appending zeros at the end.  Even though this is the common\n",
      "    approach, it might lead to surprising results.  If a different padding is\n",
      "    desired, it must be performed before calling `ifft`.\n",
      "    \n",
      "    Examples\n",
      "    --------\n",
      "    >>> np.fft.ifft([0, 4, 0, 0])\n",
      "    array([ 1.+0.j,  0.+1.j, -1.+0.j,  0.-1.j])\n",
      "    \n",
      "    Create and plot a band-limited signal with random phases:\n",
      "    \n",
      "    >>> import matplotlib.pyplot as plt\n",
      "    >>> t = np.arange(400)\n",
      "    >>> n = np.zeros((400,), dtype=complex)\n",
      "    >>> n[40:60] = np.exp(1j*np.random.uniform(0, 2*np.pi, (20,)))\n",
      "    >>> s = np.fft.ifft(n)\n",
      "    >>> plt.plot(t, s.real, 'b-', t, s.imag, 'r--')\n",
      "    ...\n",
      "    >>> plt.legend(('real', 'imaginary'))\n",
      "    ...\n",
      "    >>> plt.show()\n",
      "\n"
     ]
    }
   ],
   "source": [
    "help(np.fft.ifft)"
   ]
  },
  {
   "cell_type": "code",
   "execution_count": 21,
   "metadata": {},
   "outputs": [
    {
     "data": {
      "text/plain": [
       "(array([-0.91516135, -1.34669529, -0.16197434, -0.19142054,  0.37773124,\n",
       "         0.50272062, -0.52180282, -0.0182775 ]),\n",
       " array([-0.91516135, -1.34669529, -0.16197434, -0.19142054,  0.37773124,\n",
       "         0.50272062, -0.52180282, -0.0182775 ]))"
      ]
     },
     "execution_count": 21,
     "metadata": {},
     "output_type": "execute_result"
    }
   ],
   "source": [
    "x=np.random.randn(8)\n",
    "xf = dft_freq_phase(x,8)\n",
    "xff=np.fft.ifft(xf[\"dft\"])\n",
    "\n",
    "x,np.real(xff)"
   ]
  },
  {
   "cell_type": "code",
   "execution_count": null,
   "metadata": {},
   "outputs": [],
   "source": []
  }
 ],
 "metadata": {
  "kernelspec": {
   "display_name": "Python 3 (ipykernel)",
   "language": "python",
   "name": "python3"
  },
  "language_info": {
   "codemirror_mode": {
    "name": "ipython",
    "version": 3
   },
   "file_extension": ".py",
   "mimetype": "text/x-python",
   "name": "python",
   "nbconvert_exporter": "python",
   "pygments_lexer": "ipython3",
   "version": "3.7.16"
  }
 },
 "nbformat": 4,
 "nbformat_minor": 4
}
